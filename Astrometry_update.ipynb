{
 "cells": [
  {
   "cell_type": "code",
   "execution_count": 1,
   "id": "011ddf84",
   "metadata": {},
   "outputs": [
    {
     "name": "stderr",
     "output_type": "stream",
     "text": [
      "WARNING: Astrometry.net API key not found in configuration file [astroquery.astrometry_net.core]\n",
      "WARNING: You need to manually edit the configuration file and add it [astroquery.astrometry_net.core]\n",
      "WARNING: You may also register it for this session with AstrometryNet.key = 'XXXXXXXX' [astroquery.astrometry_net.core]\n"
     ]
    }
   ],
   "source": [
    "import numpy as np\n",
    "import ccdproc,os\n",
    "import glob\n",
    "from astropy import units as u\n",
    "import matplotlib.pyplot as plt\n",
    "from astropy.io import fits\n",
    "from astropy.time import Time\n",
    "from astropy.wcs import WCS\n",
    "import astroalign as aa\n",
    "from astropy.nddata import CCDData\n",
    "from astropy.stats import sigma_clipped_stats, SigmaClip\n",
    "from astropy.stats import SigmaClip, mad_std\n",
    "from photutils.background import Background2D, MedianBackground,SExtractorBackground\n",
    "from astroquery.astrometry_net import AstrometryNet\n",
    "from astropy.coordinates import SkyCoord"
   ]
  },
  {
   "cell_type": "code",
   "execution_count": 2,
   "id": "dba642e2",
   "metadata": {},
   "outputs": [
    {
     "name": "stderr",
     "output_type": "stream",
     "text": [
      "WARNING: Astrometry.net API key not found in configuration file [astroquery.astrometry_net.core]\n",
      "WARNING: You need to manually edit the configuration file and add it [astroquery.astrometry_net.core]\n",
      "WARNING: You may also register it for this session with AstrometryNet.key = 'XXXXXXXX' [astroquery.astrometry_net.core]\n"
     ]
    }
   ],
   "source": [
    "ast=AstrometryNet()"
   ]
  },
  {
   "cell_type": "code",
   "execution_count": 3,
   "id": "85f0d33e",
   "metadata": {},
   "outputs": [],
   "source": [
    "ast.api_key='ezrygpqtnpxfjjlg' #astrometry account key"
   ]
  },
  {
   "cell_type": "code",
   "execution_count": 4,
   "id": "35b19888",
   "metadata": {},
   "outputs": [],
   "source": [
    "folderpath='/home/abhishek/ATSOA/atsoa_2022/sa101_standard/'\n",
    "os.chdir(folderpath)"
   ]
  },
  {
   "cell_type": "code",
   "execution_count": 5,
   "id": "2d332198",
   "metadata": {},
   "outputs": [
    {
     "name": "stdout",
     "output_type": "stream",
     "text": [
      "['SA101_150_V_01_cln.fits', 'SA101_150_V_02_cln.fits', 'SA101_150_V_03_cln.fits', 'SA101_150_V_04_cln.fits']\n"
     ]
    }
   ],
   "source": [
    "cln_V_files=sorted(glob.glob('SA101_150_V_*_cln.fits'))\n",
    "print(cln_V_files)"
   ]
  },
  {
   "cell_type": "markdown",
   "id": "0c9142de",
   "metadata": {},
   "source": [
    "Make for loop to do astrometry to all fits files."
   ]
  },
  {
   "cell_type": "code",
   "execution_count": 7,
   "id": "64eb8c29",
   "metadata": {
    "collapsed": true,
    "jupyter": {
     "outputs_hidden": true
    },
    "tags": []
   },
   "outputs": [
    {
     "name": "stdout",
     "output_type": "stream",
     "text": [
      "Determining background stats\n",
      "Finding sources\n",
      "Found 260 sources\n",
      " id     xcentroid      ...        flux                 mag          \n",
      "--- ------------------ ... ------------------ ----------------------\n",
      " 37 1743.4550000051158 ... 1204.1860984596512     -7.701734023136319\n",
      " 38 1757.6773674885703 ...  935.0418114832329     -7.427077578225286\n",
      "108  795.4148747959952 ...    852.65524108045     -7.326933664782142\n",
      "105   789.933924178725 ...  825.5352463043907     -7.291839050595234\n",
      " 16 1764.5073777759485 ...  739.8599465011977     -7.172873791833213\n",
      " 35 1744.8542181503421 ...  595.1183553943656     -6.936508363830147\n",
      " 36 1752.4842547687726 ...  515.4613546566035     -6.780490276917314\n",
      " 17 1764.2044224896931 ...  499.7643112904885     -6.746913098648704\n",
      " 39 1749.6130791732962 ...  498.1974373587492     -6.743503723176768\n",
      " 15   1763.41863247357 ...  493.3076085348153     -6.732794534647666\n",
      "...                ... ...                ...                    ...\n",
      "254 1992.6388201408495 ... 1.0789642795053327   -0.08251766761433313\n",
      " 77 1359.4428062139007 ...  1.075897995388376   -0.07942774584472774\n",
      "170  1027.855369062666 ... 1.0691851808998656   -0.07263232681521466\n",
      "221 1766.1286143002178 ... 1.0397687367881423   -0.04234188789750337\n",
      " 42 1764.2732186883138 ...  1.033764767864521   -0.03605431681567925\n",
      "  2 1960.1069601056695 ... 1.0335861129168797   -0.03586666396284295\n",
      " 81  540.1074414844242 ... 1.0317820099801962   -0.03396987824998217\n",
      " 87 1817.5495348456845 ... 1.0261698142793763  -0.028048088347842177\n",
      " 28 1616.0687886033045 ... 1.0203430321710882  -0.021865507673677072\n",
      " 82 321.39985929697724 ... 1.0149416887986258  -0.016102728873203492\n",
      "245  517.9801661696888 ...  1.006220542875695 -0.0067329489583335235\n",
      "Length = 260 rows\n",
      "Solving.........Determining background stats\n",
      "Finding sources\n",
      "Found 301 sources\n",
      " id     xcentroid      ...        flux                 mag         \n",
      "--- ------------------ ... ------------------ ---------------------\n",
      "117  803.7711671886268 ...  820.2556654699342    -7.284873096803496\n",
      " 41 1767.8301651870715 ...  670.9396054258561    -7.066708572364528\n",
      "120  809.5740304600143 ...  598.2063821902407   -6.9421276053859335\n",
      " 39 1764.5695134221444 ...  555.1930787403427    -6.861110108478249\n",
      " 14 1777.2144215380963 ...  538.2656102399161    -6.827491584128968\n",
      " 40 1757.1813779940833 ...  523.1688094435065    -6.796604610221158\n",
      " 15 1780.6760653607569 ...  517.3760821561343    -6.784515869476118\n",
      " 17  1777.926151216178 ... 471.98082225619794     -6.68481088134414\n",
      "132  595.8785122875224 ...  362.6975105027162    -6.398861436658257\n",
      " 43 1764.2630097586857 ...   346.079544593969    -6.347939826518339\n",
      "...                ... ...                ...                   ...\n",
      "294 1454.3076284563308 ...  1.058241004204169  -0.06146146337989629\n",
      "154  397.9031240475025 ... 1.0531069749854405  -0.05618122304005911\n",
      "263 143.76578503258764 ... 1.0431944234169368  -0.04591314198733314\n",
      "229  1277.288900278914 ...  1.039201700335482 -0.041749621638836325\n",
      " 69  2000.767811346419 ... 1.0369549571994856 -0.039399730257640785\n",
      " 87 1262.6350548255473 ... 1.0315968327025005 -0.033775000149001755\n",
      "259  312.8681316881046 ... 1.0263187542315526 -0.028205662427598407\n",
      "148  645.1165540917574 ... 1.0244586019724966 -0.026236033494662463\n",
      " 23 1898.4154041953875 ... 1.0197692022444995 -0.021254729567854073\n",
      "238 250.70982542008085 ...  1.017285470347423 -0.018607104036564084\n",
      "208 29.929701783987234 ... 1.0037050456116654  -0.00401526836940417\n",
      "Length = 301 rows\n",
      "Solving......Determining background stats\n",
      "Finding sources\n",
      "Found 245 sources\n",
      " id     xcentroid      ...        flux                 mag         \n",
      "--- ------------------ ... ------------------ ---------------------\n",
      " 99  811.7603279946784 ...  812.4059001888677    -7.274432672141384\n",
      " 33 1777.6796270914638 ...  802.1847387359782    -7.260685988586154\n",
      "104  818.2204211532811 ...  799.8140587483514    -7.257472584212343\n",
      " 14 1786.3247525940978 ...  520.1075590371955    -6.790232914211578\n",
      " 31 1770.5321321710367 ...  518.4572860332231    -6.786782455312144\n",
      " 32  1772.604561209915 ...  484.7085684772198    -6.713701742671265\n",
      "112  604.7510128618952 ...  372.4761720558527    -6.427746238511772\n",
      "103  815.4230976516043 ...  348.3082746247718    -6.354909479866462\n",
      " 35 1773.1907059924442 ...  323.2692168293752    -6.273910877693099\n",
      "106  815.7183577759239 ...  256.0254258004037    -6.020707742737557\n",
      "...                ... ...                ...                   ...\n",
      "148   840.759525896507 ... 1.0609592872452815  -0.06424679702017447\n",
      "239 1125.0684554180657 ... 1.0601766579939647  -0.06344559523626767\n",
      "164  140.1220478016996 ... 1.0545605119626997  -0.05767876283808904\n",
      "140   377.736584418954 ... 1.0452007337133637  -0.04799926480707133\n",
      "171 1535.6626671283514 ...  1.042707298584572  -0.04540603365066385\n",
      " 72 1382.0090519877024 ... 1.0399772568565866 -0.042559604665973236\n",
      " 66  765.9248273179235 ... 1.0388338439449694 -0.041365224936284736\n",
      "122  653.4443785197288 ... 1.0367064326109685 -0.039139483193058835\n",
      "199 148.07034682242218 ... 1.0327319966858832 -0.034969081965598545\n",
      "149   877.208280529666 ... 1.0142363782756696  -0.01534795903448372\n",
      "159  440.5641119743026 ... 1.0057847492526408 -0.006262615283165787\n",
      "Length = 245 rows\n",
      "Solving.............Determining background stats\n",
      "Finding sources\n",
      "Found 207 sources\n",
      " id     xcentroid      ...        flux                  mag          \n",
      "--- ------------------ ... ------------------ -----------------------\n",
      " 32 1736.7746820326965 ... 1052.4557326835675      -7.555509595104035\n",
      " 79   777.236211601785 ...  785.7705723819329      -7.238239400425108\n",
      " 78   770.764427365078 ...  776.6189841186589     -7.2255200062062706\n",
      " 83  776.7654174275209 ...  576.7072829387289      -6.902388589816173\n",
      " 81  776.7855864572939 ...  561.0046795023262      -6.872416209617954\n",
      " 31  1732.417417950251 ...  526.8287621665941       -6.80417369300822\n",
      " 30 1730.7138708345483 ... 451.44590910501626      -6.636514304760635\n",
      " 15 1745.2121218920086 ...   441.478742993875      -6.612274493324671\n",
      " 33 1731.6970356732477 ... 353.64056785617737       -6.37140519815954\n",
      " 82  774.8792279632637 ...  349.7907912483691      -6.359520929647226\n",
      "...                ... ...                ...                     ...\n",
      "106  945.0128699882556 ... 1.0458819445263863    -0.04870666416208674\n",
      " 53 1133.3139624985292 ... 1.0353494179630107    -0.03771735922481438\n",
      " 62 183.40595274514948 ... 1.0334595472815211     -0.0357337042557549\n",
      "135 400.13917306071187 ...  1.023084177755478   -0.024778420621302616\n",
      " 71  640.1869987711723 ... 1.0190936662717975   -0.020535256079622706\n",
      "100  721.5990532629617 ... 1.0177068175519137    -0.01905670959423303\n",
      "197 361.05844068846886 ... 1.0123428344682182    -0.01331903299754993\n",
      " 29  787.8465861339796 ... 1.0066156779684132   -0.007159225549546373\n",
      "151    360.55477075526 ... 1.0044845097653414   -0.004858109616327865\n",
      "178 107.39624838692927 ... 1.0027103201155887   -0.002938712047298531\n",
      "203  190.1708598469006 ... 1.0002044765616822 -0.00022198491146047924\n",
      "Length = 207 rows\n",
      "Solving......."
     ]
    }
   ],
   "source": [
    "wcs_list=[]\n",
    "for i in range(len(cln_V_files)):\n",
    "    wcs_astrometry=ast.solve_from_image(cln_V_files[i])\n",
    "    wcs_list.append(wcs_astrometry)"
   ]
  },
  {
   "cell_type": "code",
   "execution_count": 10,
   "id": "c500fa4b",
   "metadata": {},
   "outputs": [
    {
     "name": "stderr",
     "output_type": "stream",
     "text": [
      "WARNING: FITSFixedWarning: The WCS transformation has more axes (2) than the image it is associated with (0) [astropy.wcs.wcs]\n"
     ]
    }
   ],
   "source": [
    "wcs_0=WCS(wcs_list[0])\n",
    "wcs_1=WCS(wcs_list[1])\n",
    "wcs_2=WCS(wcs_list[2])\n",
    "wcs_3=WCS(wcs_list[3])"
   ]
  },
  {
   "cell_type": "code",
   "execution_count": 15,
   "id": "d0e94198",
   "metadata": {},
   "outputs": [],
   "source": [
    "hdu_0=fits.open(cln_V_files[0])\n",
    "header_0=hdu_0[0].header\n",
    "data_0=hdu_0[0].data\n",
    "\n",
    "hdu_0[0].header.update(wcs_0.to_header())\n",
    "hdu_0.writeto('SA101_150_V_01_cln_ast.fits',overwrite=True)"
   ]
  },
  {
   "cell_type": "code",
   "execution_count": 25,
   "id": "faad5feb",
   "metadata": {},
   "outputs": [],
   "source": [
    "hdu_3=fits.open(cln_V_files[3])\n",
    "header_3=hdu_3[0].header\n",
    "data_3=hdu_3[0].data\n",
    "\n",
    "hdu_3[0].header.update(wcs_3.to_header())\n",
    "hdu_3.writeto('SA101_150_V_04_cln_ast.fits',overwrite=True)"
   ]
  },
  {
   "cell_type": "code",
   "execution_count": 29,
   "id": "cd0478d2",
   "metadata": {},
   "outputs": [],
   "source": [
    "temp_file=fits.open('SA101_150_V_04_cln_ast.fits')\n",
    "temp_header=temp_file[0].header\n",
    "temp_data=temp_file[0].data"
   ]
  },
  {
   "cell_type": "code",
   "execution_count": 31,
   "id": "0bbbdfcc",
   "metadata": {},
   "outputs": [],
   "source": [
    "mean,median,std=sigma_clipped_stats(temp_data)"
   ]
  },
  {
   "cell_type": "code",
   "execution_count": 1,
   "id": "2100df86",
   "metadata": {},
   "outputs": [
    {
     "ename": "NameError",
     "evalue": "name 'plt' is not defined",
     "output_type": "error",
     "traceback": [
      "\u001b[0;31m---------------------------------------------------------------------------\u001b[0m",
      "\u001b[0;31mNameError\u001b[0m                                 Traceback (most recent call last)",
      "\u001b[0;32m<ipython-input-1-446829005eec>\u001b[0m in \u001b[0;36m<module>\u001b[0;34m\u001b[0m\n\u001b[0;32m----> 1\u001b[0;31m \u001b[0mplt\u001b[0m\u001b[0;34m.\u001b[0m\u001b[0mfigure\u001b[0m\u001b[0;34m(\u001b[0m\u001b[0mfigsize\u001b[0m\u001b[0;34m=\u001b[0m\u001b[0;34m(\u001b[0m\u001b[0;36m10\u001b[0m\u001b[0;34m,\u001b[0m\u001b[0;36m10\u001b[0m\u001b[0;34m)\u001b[0m\u001b[0;34m)\u001b[0m\u001b[0;34m\u001b[0m\u001b[0;34m\u001b[0m\u001b[0m\n\u001b[0m\u001b[1;32m      2\u001b[0m \u001b[0mplt\u001b[0m\u001b[0;34m.\u001b[0m\u001b[0msubplot\u001b[0m\u001b[0;34m(\u001b[0m\u001b[0;36m111\u001b[0m\u001b[0;34m,\u001b[0m\u001b[0mprojection\u001b[0m\u001b[0;34m=\u001b[0m\u001b[0mWCS\u001b[0m\u001b[0;34m(\u001b[0m\u001b[0mtemp_header\u001b[0m\u001b[0;34m)\u001b[0m\u001b[0;34m)\u001b[0m\u001b[0;34m\u001b[0m\u001b[0;34m\u001b[0m\u001b[0m\n\u001b[1;32m      3\u001b[0m \u001b[0mplt\u001b[0m\u001b[0;34m.\u001b[0m\u001b[0mimshow\u001b[0m\u001b[0;34m(\u001b[0m\u001b[0mtemp_data\u001b[0m\u001b[0;34m,\u001b[0m\u001b[0mvmin\u001b[0m\u001b[0;34m=\u001b[0m\u001b[0mmedian\u001b[0m\u001b[0;34m-\u001b[0m\u001b[0;36m5\u001b[0m\u001b[0;34m*\u001b[0m\u001b[0mstd\u001b[0m\u001b[0;34m,\u001b[0m\u001b[0mvmax\u001b[0m\u001b[0;34m=\u001b[0m\u001b[0mmedian\u001b[0m\u001b[0;34m+\u001b[0m\u001b[0;36m5\u001b[0m\u001b[0;34m*\u001b[0m\u001b[0mstd\u001b[0m\u001b[0;34m,\u001b[0m\u001b[0maspect\u001b[0m\u001b[0;34m=\u001b[0m\u001b[0;34m'equal'\u001b[0m\u001b[0;34m,\u001b[0m\u001b[0mcmap\u001b[0m\u001b[0;34m=\u001b[0m\u001b[0;34m'gray'\u001b[0m\u001b[0;34m)\u001b[0m\u001b[0;34m\u001b[0m\u001b[0;34m\u001b[0m\u001b[0m\n\u001b[1;32m      4\u001b[0m \u001b[0mplt\u001b[0m\u001b[0;34m.\u001b[0m\u001b[0mcolorbar\u001b[0m\u001b[0;34m(\u001b[0m\u001b[0;34m)\u001b[0m\u001b[0;34m\u001b[0m\u001b[0;34m\u001b[0m\u001b[0m\n\u001b[1;32m      5\u001b[0m \u001b[0mplt\u001b[0m\u001b[0;34m.\u001b[0m\u001b[0mgrid\u001b[0m\u001b[0;34m(\u001b[0m\u001b[0malpha\u001b[0m\u001b[0;34m=\u001b[0m\u001b[0;36m0.6\u001b[0m\u001b[0;34m,\u001b[0m\u001b[0mcolor\u001b[0m\u001b[0;34m=\u001b[0m\u001b[0;34m'red'\u001b[0m\u001b[0;34m)\u001b[0m\u001b[0;34m\u001b[0m\u001b[0;34m\u001b[0m\u001b[0m\n",
      "\u001b[0;31mNameError\u001b[0m: name 'plt' is not defined"
     ]
    }
   ],
   "source": [
    "plt.figure(figsize=(10,10))\n",
    "plt.subplot(111,projection=WCS(temp_header))\n",
    "plt.imshow(temp_data,vmin=median-5*std,vmax=median+5*std,aspect='equal',cmap='gray')\n",
    "plt.colorbar()\n",
    "plt.grid(alpha=0.6,color='red')\n",
    "plt.show()"
   ]
  }
 ],
 "metadata": {
  "kernelspec": {
   "display_name": "Python 3",
   "language": "python",
   "name": "python3"
  },
  "language_info": {
   "codemirror_mode": {
    "name": "ipython",
    "version": 3
   },
   "file_extension": ".py",
   "mimetype": "text/x-python",
   "name": "python",
   "nbconvert_exporter": "python",
   "pygments_lexer": "ipython3",
   "version": "3.7.10"
  },
  "toc-autonumbering": false,
  "toc-showcode": true,
  "toc-showmarkdowntxt": false
 },
 "nbformat": 4,
 "nbformat_minor": 5
}
