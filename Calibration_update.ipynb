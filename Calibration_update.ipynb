{
 "cells": [
  {
   "cell_type": "code",
   "execution_count": 8,
   "id": "c1eb1d6c",
   "metadata": {},
   "outputs": [],
   "source": [
    "import numpy as np\n",
    "import ccdproc,os\n",
    "import glob\n",
    "from astropy import units as u\n",
    "import matplotlib.pyplot as plt\n",
    "from astropy.io import fits\n",
    "import pandas as pd\n",
    "import pandas as pd\n",
    "from astropy.time import Time\n",
    "from astropy.wcs import WCS\n",
    "from astropy.nddata import CCDData\n",
    "from astropy.stats import sigma_clipped_stats, SigmaClip\n",
    "from astropy.stats import SigmaClip, mad_std\n",
    "from photutils.background import Background2D, MedianBackground,SExtractorBackground\n",
    "from astroquery.vizier import Vizier\n",
    "from astropy.coordinates import SkyCoord"
   ]
  },
  {
   "cell_type": "code",
   "execution_count": 3,
   "id": "d60a4680",
   "metadata": {
    "collapsed": true,
    "jupyter": {
     "outputs_hidden": true
    },
    "tags": []
   },
   "outputs": [
    {
     "data": {
      "text/plain": [
       "['masterbias.fits',\n",
       " 'flat_V_02.fits',\n",
       " 'SA101_300_B_02.fits',\n",
       " 'flat_V_04.fits',\n",
       " 'SA101_150_V_01_cln_ast.fits',\n",
       " 'flat_B_04.fits',\n",
       " 'SA101_300_B_03.fits',\n",
       " 'flat_B_05.fits',\n",
       " 'SA101_150_V_03_cln_ast.fits',\n",
       " 'SA101_300_B_03_cln.fits',\n",
       " 'SA101_300_B_04_cln.fits',\n",
       " 'flat_V_03.fits',\n",
       " 'flat_R_01.fits',\n",
       " 'SA101_150_V_02_cln_ast.fits',\n",
       " 'Photometry_sources.csv',\n",
       " 'flat_R_05.fits',\n",
       " 'flat_U_02.fits',\n",
       " 'temp_file.fits',\n",
       " 'SA101_300_U_03.fits',\n",
       " 'flat_R_03.fits',\n",
       " 'SA101_150_V_04_cln_ast.fits',\n",
       " 'SA101_70_I_02.fits',\n",
       " 'SA101_70_I_01.fits',\n",
       " 'SA101_100_R_02.fits',\n",
       " 'SA101_150_V_02_cln.fits',\n",
       " 'SA101_70_I_03.fits',\n",
       " 'SA101_150_V_01_cln.fits',\n",
       " 'SA101_300_B_02_cln.fits',\n",
       " 'SA101_300_U_04.fits',\n",
       " 'flat_U_04.fits',\n",
       " 'SA101_150_V_04.fits',\n",
       " 'SA101_70_I_03_cln_cln.fits',\n",
       " 'flat_R_02.fits',\n",
       " 'flat_B_01.fits',\n",
       " 'flat_U_03.fits',\n",
       " 'SA101_100_R_04.fits',\n",
       " 'SA101_300_B_01_cln.fits',\n",
       " 'flat_U_01.fits',\n",
       " 'flat_I_04.fits',\n",
       " 'BIAS_02.fits',\n",
       " 'SA101_70_I_01_cln_cln.fits',\n",
       " 'flat_R_04.fits',\n",
       " 'flat_B_03.fits',\n",
       " 'SA101_300_B_04.fits',\n",
       " 'SA101_100_R_01.fits',\n",
       " 'flat_V_01.fits',\n",
       " 'SA101_300_B_01.fits',\n",
       " 'flat_I_01.fits',\n",
       " 'SA101_150_V_03.fits',\n",
       " 'SA101_150_V_04_cln.fits',\n",
       " 'SA101_70_I_04_cln_cln.fits',\n",
       " 'masterflat_V.fits',\n",
       " 'flat_I_02.fits',\n",
       " 'SA101_300_U_02.fits',\n",
       " 'SA101_150_V_01.fits',\n",
       " 'SA101_100_R_03.fits',\n",
       " 'flat_B_02.fits',\n",
       " 'SA101_150_V_03_cln.fits',\n",
       " 'flat_I_03.fits',\n",
       " 'SA101_150_V_02.fits',\n",
       " 'SA101_300_U_01.fits',\n",
       " 'BIAS_01.fits',\n",
       " 'SA101_70_I_02_cln_cln.fits',\n",
       " 'SA101_70_I_04.fits',\n",
       " 'flat_U_05.fits']"
      ]
     },
     "execution_count": 3,
     "metadata": {},
     "output_type": "execute_result"
    }
   ],
   "source": [
    "os.chdir('/home/abhishek/ATSOA/atsoa_2022/sa101_standard/')\n",
    "os.listdir()"
   ]
  },
  {
   "cell_type": "code",
   "execution_count": 17,
   "id": "e886db51",
   "metadata": {},
   "outputs": [],
   "source": [
    "phot_table=pd.read_csv('Photometry_sources_update.csv',sep=',')"
   ]
  },
  {
   "cell_type": "code",
   "execution_count": 25,
   "id": "e2975672",
   "metadata": {},
   "outputs": [],
   "source": [
    "source_ra=phot_table['RA']\n",
    "source_dec=phot_table['DEC']"
   ]
  },
  {
   "cell_type": "code",
   "execution_count": 38,
   "id": "5477fab2",
   "metadata": {},
   "outputs": [
    {
     "name": "stderr",
     "output_type": "stream",
     "text": [
      "/home/abhishek/anaconda3/lib/python3.7/site-packages/astropy/utils/metadata.py:358: MergeConflictWarning: Cannot merge meta key 'null' types <class 'float'> and <class 'float'>, choosing null=nan\n",
      "  MergeConflictWarning)\n"
     ]
    }
   ],
   "source": [
    "result = Vizier.query_region(SkyCoord(ra=source_ra, dec=source_dec,unit=(u.deg, u.deg),frame='icrs'),\n",
    "                             radius=2*u.arcmin,catalog=[\"NOMAD\", \"UCAC\"],column_filters={'Vmag': '<12'})"
   ]
  }
 ],
 "metadata": {
  "kernelspec": {
   "display_name": "Python 3",
   "language": "python",
   "name": "python3"
  },
  "language_info": {
   "codemirror_mode": {
    "name": "ipython",
    "version": 3
   },
   "file_extension": ".py",
   "mimetype": "text/x-python",
   "name": "python",
   "nbconvert_exporter": "python",
   "pygments_lexer": "ipython3",
   "version": "3.7.10"
  }
 },
 "nbformat": 4,
 "nbformat_minor": 5
}
